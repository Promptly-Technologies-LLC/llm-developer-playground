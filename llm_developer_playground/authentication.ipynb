{
 "cells": [
  {
   "cell_type": "markdown",
   "metadata": {},
   "source": [
    "# Authenticating with the OpenAI Python Library\n",
    "\n",
    "For software applications that are going to do some compute-intensive work before making an actual API call, you may want to validate the user's API key before doing that work. However, the OpenAI Python library does not provide a dedicated endpoint for this, and the top results on Google suggest making a test chat completion call, which costs money.\n",
    "\n",
    "Fortunately, OpenAI does provide one zero-cost endpoint that requires a valid API key and can therefore be used to validate an API key. This is the `models` endpoint, used to retrieve information about a model. This endpoint is documented [here](https://platform.openai.com/docs/api-reference/models). Pinging this endpoint with an invalid key will raise an `AuthenticationError` exception, while pinging it with a valid key will return a JSON object with information about the available models.\n",
    "\n",
    "Thus, to validate an API key, you can simply ping the `models` endpoint and catch any `AuthenticationError` exception with a `try`-`catch` block. If the exception is raised, the key is invalid. If the exception is not raised, the key is valid. Note that the OpenAI Python library does not directly export the `AuthenticationError` exception, but `AuthenticationError` is a subclass of `OpenAIError`, which the library does export. You can still access `AuthenticationError` with `OpenAIError.error.AuthenticationError` if you specifically want to catch only `AuthenticationError` exceptions, but I recommend using `OpenAIError` to also catch other possible exceptions you might encounter, such as `APIConnectionError` and `ServiceUnavailableError`."
   ]
  },
  {
   "cell_type": "code",
   "execution_count": 1,
   "metadata": {},
   "outputs": [
    {
     "name": "stdout",
     "output_type": "stream",
     "text": [
      "Incorrect API key provided: invalid-key. You can find your API key at https://platform.openai.com/account/api-keys.\n"
     ]
    }
   ],
   "source": [
    "import openai\n",
    "\n",
    "# Set invalid key to test error handling\n",
    "openai.api_key = \"invalid-key\"\n",
    "\n",
    "# Use try-catch to handle errors\n",
    "try:\n",
    "    openai.Model.list()\n",
    "    print(\"Authentication was successful\")\n",
    "except openai.OpenAIError as err:\n",
    "    print(err)"
   ]
  }
 ],
 "metadata": {
  "kernelspec": {
   "display_name": ".venv",
   "language": "python",
   "name": "python3"
  },
  "language_info": {
   "codemirror_mode": {
    "name": "ipython",
    "version": 3
   },
   "file_extension": ".py",
   "mimetype": "text/x-python",
   "name": "python",
   "nbconvert_exporter": "python",
   "pygments_lexer": "ipython3",
   "version": "3.11.2"
  },
  "orig_nbformat": 4
 },
 "nbformat": 4,
 "nbformat_minor": 2
}
